{
  "nbformat": 4,
  "nbformat_minor": 0,
  "metadata": {
    "colab": {
      "name": "Piyush Paradkar.ipynb",
      "provenance": [],
      "collapsed_sections": []
    },
    "kernelspec": {
      "name": "python3",
      "display_name": "Python 3"
    }
  },
  "cells": [
    {
      "cell_type": "code",
      "metadata": {
        "id": "48WKZyV79Z8W"
      },
      "source": [
        "import numpy as np\n",
        "import pandas as pd"
      ],
      "execution_count": 36,
      "outputs": []
    },
    {
      "cell_type": "markdown",
      "metadata": {
        "id": "M8ZM--PQkZPi"
      },
      "source": [
        "imported the libraries"
      ]
    },
    {
      "cell_type": "code",
      "metadata": {
        "id": "Ss3LYmRV92Ch"
      },
      "source": [
        "from  sklearn.datasets import load_iris\n",
        "iris_dataset= load_iris()"
      ],
      "execution_count": 37,
      "outputs": []
    },
    {
      "cell_type": "markdown",
      "metadata": {
        "id": "KkNiuuF_kgVS"
      },
      "source": [
        "dataset imported"
      ]
    },
    {
      "cell_type": "code",
      "metadata": {
        "colab": {
          "base_uri": "https://localhost:8080/"
        },
        "id": "MzA_fgZJ-E6d",
        "outputId": "2ba26901-0ba3-4fce-a1a1-c4bfe83b7822"
      },
      "source": [
        "print(\"Keys of iris_dataset:\\n{}\".format(iris_dataset.keys()))\n"
      ],
      "execution_count": 38,
      "outputs": [
        {
          "output_type": "stream",
          "text": [
            "Keys of iris_dataset:\n",
            "dict_keys(['data', 'target', 'target_names', 'DESCR', 'feature_names', 'filename'])\n"
          ],
          "name": "stdout"
        }
      ]
    },
    {
      "cell_type": "markdown",
      "metadata": {
        "id": "P9JwBVM0kirU"
      },
      "source": [
        "printed the keys of dataset"
      ]
    },
    {
      "cell_type": "code",
      "metadata": {
        "colab": {
          "base_uri": "https://localhost:8080/"
        },
        "id": "hgOgTMPM_db8",
        "outputId": "19a80aaf-1caf-40f2-af39-3af9674623f8"
      },
      "source": [
        "print(iris_dataset['DESCR'][:200]+\"\\n...\")"
      ],
      "execution_count": 39,
      "outputs": [
        {
          "output_type": "stream",
          "text": [
            ".. _iris_dataset:\n",
            "\n",
            "Iris plants dataset\n",
            "--------------------\n",
            "\n",
            "**Data Set Characteristics:**\n",
            "\n",
            "    :Number of Instances: 150 (50 in each of three classes)\n",
            "    :Number of Attributes: 4 numeric, predictive\n",
            "...\n"
          ],
          "name": "stdout"
        }
      ]
    },
    {
      "cell_type": "markdown",
      "metadata": {
        "id": "JhUrJipYkrbi"
      },
      "source": [
        "printing DESCR dataset characteristics"
      ]
    },
    {
      "cell_type": "code",
      "metadata": {
        "colab": {
          "base_uri": "https://localhost:8080/"
        },
        "id": "A5gHNdGiA-Ug",
        "outputId": "12b56715-e012-4ab0-83ec-dfa6643cda87"
      },
      "source": [
        "print(\"Target names:{}\".format(iris_dataset['target_names']))"
      ],
      "execution_count": 40,
      "outputs": [
        {
          "output_type": "stream",
          "text": [
            "Target names:['setosa' 'versicolor' 'virginica']\n"
          ],
          "name": "stdout"
        }
      ]
    },
    {
      "cell_type": "markdown",
      "metadata": {
        "id": "2uBfrgCZkzEO"
      },
      "source": [
        "names of flower are printed"
      ]
    },
    {
      "cell_type": "code",
      "metadata": {
        "colab": {
          "base_uri": "https://localhost:8080/"
        },
        "id": "vAF5CMIpBeFW",
        "outputId": "ccc1a8b6-8d3d-424b-bcab-fb0977502dea"
      },
      "source": [
        "print(\"feature names:{}\".format(iris_dataset['feature_names']))"
      ],
      "execution_count": 41,
      "outputs": [
        {
          "output_type": "stream",
          "text": [
            "feature names:['sepal length (cm)', 'sepal width (cm)', 'petal length (cm)', 'petal width (cm)']\n"
          ],
          "name": "stdout"
        }
      ]
    },
    {
      "cell_type": "markdown",
      "metadata": {
        "id": "A2Df1Nrjk6H2"
      },
      "source": [
        "features are printed"
      ]
    },
    {
      "cell_type": "code",
      "metadata": {
        "colab": {
          "base_uri": "https://localhost:8080/"
        },
        "id": "dtUX5_y1Buj9",
        "outputId": "982419db-0633-4da2-967d-ddc5e3ad2765"
      },
      "source": [
        "print(\"Type of data:{}\".format(type(iris_dataset['data'])))"
      ],
      "execution_count": 42,
      "outputs": [
        {
          "output_type": "stream",
          "text": [
            "Type of data:<class 'numpy.ndarray'>\n"
          ],
          "name": "stdout"
        }
      ]
    },
    {
      "cell_type": "markdown",
      "metadata": {
        "id": "DJLqeUZYk9aa"
      },
      "source": [
        "printing the type od the dataset data"
      ]
    },
    {
      "cell_type": "code",
      "metadata": {
        "colab": {
          "base_uri": "https://localhost:8080/"
        },
        "id": "fP5xmdifCDOP",
        "outputId": "aec48af5-8849-4fd1-8e7f-f6a9958a10ba"
      },
      "source": [
        "print(\"shape of data:{}\".format(iris_dataset['data'].shape))"
      ],
      "execution_count": 43,
      "outputs": [
        {
          "output_type": "stream",
          "text": [
            "shape of data:(150, 4)\n"
          ],
          "name": "stdout"
        }
      ]
    },
    {
      "cell_type": "markdown",
      "metadata": {
        "id": "GRs50ZA_lDp6"
      },
      "source": [
        "printing the shape of dataset data"
      ]
    },
    {
      "cell_type": "code",
      "metadata": {
        "colab": {
          "base_uri": "https://localhost:8080/"
        },
        "id": "VoU5lCboCl0T",
        "outputId": "d1cb55e8-1578-435e-c8f8-376cd84befab"
      },
      "source": [
        "print(\"first five columns:{}\".format(iris_dataset['data'][:5]))"
      ],
      "execution_count": 44,
      "outputs": [
        {
          "output_type": "stream",
          "text": [
            "first five columns:[[5.1 3.5 1.4 0.2]\n",
            " [4.9 3.  1.4 0.2]\n",
            " [4.7 3.2 1.3 0.2]\n",
            " [4.6 3.1 1.5 0.2]\n",
            " [5.  3.6 1.4 0.2]]\n"
          ],
          "name": "stdout"
        }
      ]
    },
    {
      "cell_type": "markdown",
      "metadata": {
        "id": "Gaq8zkNPlKGu"
      },
      "source": [
        "printing first five arrays"
      ]
    },
    {
      "cell_type": "code",
      "metadata": {
        "colab": {
          "base_uri": "https://localhost:8080/"
        },
        "id": "Ay1ItHEdC3j5",
        "outputId": "a41ba8c3-6777-4622-fdcd-fb7df7f654f3"
      },
      "source": [
        "print(\"type OF TArget:{}\".format(type(iris_dataset['target'])))"
      ],
      "execution_count": 45,
      "outputs": [
        {
          "output_type": "stream",
          "text": [
            "type OF TArget:<class 'numpy.ndarray'>\n"
          ],
          "name": "stdout"
        }
      ]
    },
    {
      "cell_type": "markdown",
      "metadata": {
        "id": "5oAFRm9BlR6X"
      },
      "source": [
        "shape of target"
      ]
    },
    {
      "cell_type": "code",
      "metadata": {
        "colab": {
          "base_uri": "https://localhost:8080/"
        },
        "id": "26uWtQibDGS4",
        "outputId": "51847574-c210-4e8b-9fd0-43cd82b53759"
      },
      "source": [
        "print(\"shape OF TArget:{}\".format((iris_dataset['target'].shape)))"
      ],
      "execution_count": 46,
      "outputs": [
        {
          "output_type": "stream",
          "text": [
            "shape OF TArget:(150,)\n"
          ],
          "name": "stdout"
        }
      ]
    },
    {
      "cell_type": "markdown",
      "metadata": {
        "id": "ssHqaKVLlZTl"
      },
      "source": [
        "shape of target is printed"
      ]
    },
    {
      "cell_type": "code",
      "metadata": {
        "colab": {
          "base_uri": "https://localhost:8080/"
        },
        "id": "EGbVPxz7DPQ3",
        "outputId": "3bd131b9-e83e-441c-91f4-c5196f52e09e"
      },
      "source": [
        "print(\"Target:\\n{}\".format(iris_dataset['target']))"
      ],
      "execution_count": 47,
      "outputs": [
        {
          "output_type": "stream",
          "text": [
            "Target:\n",
            "[0 0 0 0 0 0 0 0 0 0 0 0 0 0 0 0 0 0 0 0 0 0 0 0 0 0 0 0 0 0 0 0 0 0 0 0 0\n",
            " 0 0 0 0 0 0 0 0 0 0 0 0 0 1 1 1 1 1 1 1 1 1 1 1 1 1 1 1 1 1 1 1 1 1 1 1 1\n",
            " 1 1 1 1 1 1 1 1 1 1 1 1 1 1 1 1 1 1 1 1 1 1 1 1 1 1 2 2 2 2 2 2 2 2 2 2 2\n",
            " 2 2 2 2 2 2 2 2 2 2 2 2 2 2 2 2 2 2 2 2 2 2 2 2 2 2 2 2 2 2 2 2 2 2 2 2 2\n",
            " 2 2]\n"
          ],
          "name": "stdout"
        }
      ]
    },
    {
      "cell_type": "markdown",
      "metadata": {
        "id": "kAVOiTH9lcyo"
      },
      "source": [
        "printed the target ie. the type of flowers"
      ]
    },
    {
      "cell_type": "code",
      "metadata": {
        "id": "D1Wq6Lmwljiw"
      },
      "source": [
        "from sklearn.model_selection import train_test_split\r\n",
        "X_train, X_test, y_train, y_test = train_test_split(\r\n",
        "    iris_dataset['data'], iris_dataset['target'],random_state =0 )"
      ],
      "execution_count": 48,
      "outputs": []
    },
    {
      "cell_type": "markdown",
      "metadata": {
        "id": "nu-8nX_Bncq5"
      },
      "source": [
        "importing the teain_test_split for training and testing our model"
      ]
    },
    {
      "cell_type": "code",
      "metadata": {
        "id": "6Uz0vg9Dnl_J"
      },
      "source": [
        "from sklearn.neighbors import KNeighborsClassifier\r\n",
        "knn = KNeighborsClassifier(n_neighbors=1) "
      ],
      "execution_count": 49,
      "outputs": []
    },
    {
      "cell_type": "code",
      "metadata": {
        "id": "xxmVOboBrPBo"
      },
      "source": [
        "importing k neighbour classifier and allocating k=1 n_neighbours denotes the k"
      ],
      "execution_count": null,
      "outputs": []
    },
    {
      "cell_type": "code",
      "metadata": {
        "colab": {
          "base_uri": "https://localhost:8080/"
        },
        "id": "_DEOmd6Zq8i6",
        "outputId": "abf29404-72c5-4f63-eefe-3f6807c4f0e7"
      },
      "source": [
        "knn.fit(X_train,y_train)"
      ],
      "execution_count": 54,
      "outputs": [
        {
          "output_type": "execute_result",
          "data": {
            "text/plain": [
              "KNeighborsClassifier(algorithm='auto', leaf_size=30, metric='minkowski',\n",
              "                     metric_params=None, n_jobs=None, n_neighbors=1, p=2,\n",
              "                     weights='uniform')"
            ]
          },
          "metadata": {
            "tags": []
          },
          "execution_count": 54
        }
      ]
    },
    {
      "cell_type": "markdown",
      "metadata": {
        "id": "VWFeg49SrUeH"
      },
      "source": [
        "fitting the data "
      ]
    },
    {
      "cell_type": "code",
      "metadata": {
        "colab": {
          "base_uri": "https://localhost:8080/"
        },
        "id": "CVKncTagoCcQ",
        "outputId": "702c13c4-2f38-48cd-e169-5b4669a2ab67"
      },
      "source": [
        "X_new = np.array([[5,2.7,1,0.3]])\r\n",
        "print(\"X_new.shape: {}\".format(X_new.shape))"
      ],
      "execution_count": 50,
      "outputs": [
        {
          "output_type": "stream",
          "text": [
            "X_new.shape: (1, 4)\n"
          ],
          "name": "stdout"
        }
      ]
    },
    {
      "cell_type": "markdown",
      "metadata": {
        "id": "0jvNLxhqoiOQ"
      },
      "source": [
        "creating a array for predicting its neighbour"
      ]
    },
    {
      "cell_type": "code",
      "metadata": {
        "colab": {
          "base_uri": "https://localhost:8080/"
        },
        "id": "j1W6Flmuon-D",
        "outputId": "0b253d57-50cc-4a1f-dd7b-0ac74777bb6b"
      },
      "source": [
        "prediction = knn.predict(X_new)\r\n",
        "\r\n",
        "print(\"Prediction: {}\".format(prediction))\r\n",
        "print(\"Predicted target name: {}\".format(\r\n",
        "    iris_dataset['target_names'][prediction])\r\n",
        ")"
      ],
      "execution_count": 58,
      "outputs": [
        {
          "output_type": "stream",
          "text": [
            "Prediction: [0]\n",
            "Predicted target name: ['setosa']\n"
          ],
          "name": "stdout"
        }
      ]
    },
    {
      "cell_type": "code",
      "metadata": {
        "colab": {
          "base_uri": "https://localhost:8080/"
        },
        "id": "nUhGtsunqgib",
        "outputId": "be275e47-32d8-4fe6-c5e1-3a25428cdfe3"
      },
      "source": [
        "y_pred = knn.predict(X_test)\r\n",
        "print(\"Test set PRediction: \\n {}\".format(y_pred))"
      ],
      "execution_count": 56,
      "outputs": [
        {
          "output_type": "stream",
          "text": [
            "Test set PRediction: \n",
            " [2 1 0 2 0 2 0 1 1 1 2 1 1 1 1 0 1 1 0 0 2 1 0 0 2 0 0 1 1 0 2 1 0 2 2 1 0\n",
            " 2]\n"
          ],
          "name": "stdout"
        }
      ]
    },
    {
      "cell_type": "code",
      "metadata": {
        "colab": {
          "base_uri": "https://localhost:8080/"
        },
        "id": "pFrkUYJMrcux",
        "outputId": "cd31a81e-b66c-42bb-f782-d830866cf329"
      },
      "source": [
        "print(\"Test set score : {}\".format(np.mean(y_pred==y_test)))"
      ],
      "execution_count": 59,
      "outputs": [
        {
          "output_type": "stream",
          "text": [
            "Test set score : 0.9736842105263158\n"
          ],
          "name": "stdout"
        }
      ]
    },
    {
      "cell_type": "markdown",
      "metadata": {
        "id": "OV2ZFdqNrrNu"
      },
      "source": [
        "predicting the accuraccy of the model\r\n",
        "Done...."
      ]
    }
  ]
}